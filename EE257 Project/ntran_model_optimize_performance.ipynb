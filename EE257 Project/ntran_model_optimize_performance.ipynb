{
 "cells": [
  {
   "cell_type": "code",
   "execution_count": 1,
   "metadata": {},
   "outputs": [],
   "source": [
    "# handle imports\n",
    "import os\n",
    "import tensorflow as tf\n",
    "from PIL import Image\n",
    "import random\n",
    "import pathlib\n",
    "import numpy as np\n",
    "\n",
    "from sklearn.pipeline import Pipeline\n",
    "from sklearn.feature_selection import SelectFromModel\n",
    "from sklearn.linear_model import Ridge, Lasso, LassoCV, RidgeCV\n",
    "from sklearn.ensemble import RandomForestClassifier\n",
    "from sklearn.tree import DecisionTreeClassifier\n",
    "from sklearn.linear_model import LogisticRegression\n",
    "from sklearn.model_selection import GridSearchCV\n",
    "from sklearn.svm import SVC\n",
    "\n",
    "from sklearn.metrics import confusion_matrix, classification_report\n",
    "\n"
   ]
  },
  {
   "cell_type": "code",
   "execution_count": 2,
   "metadata": {},
   "outputs": [
    {
     "data": {
      "text/plain": [
       "'c:\\\\Users\\\\tickn\\\\ml\\\\EE257\\\\EE257 Project\\\\dataset'"
      ]
     },
     "execution_count": 2,
     "metadata": {},
     "output_type": "execute_result"
    }
   ],
   "source": [
    "current_path = os.getcwd()\n",
    "dataset_path = current_path + '\\dataset'\n",
    "dataset_path"
   ]
  },
  {
   "cell_type": "code",
   "execution_count": 3,
   "metadata": {},
   "outputs": [
    {
     "name": "stdout",
     "output_type": "stream",
     "text": [
      "Found 597 files belonging to 4 classes.\n",
      "Using 478 files for training.\n",
      "Found 597 files belonging to 4 classes.\n",
      "Using 119 files for validation.\n"
     ]
    }
   ],
   "source": [
    "# Load dataset and split\n",
    "\n",
    "data_dir = pathlib.Path(dataset_path + '\\data')\n",
    "batch_size = 32\n",
    "\n",
    "def describe_img(filepath):\n",
    "    rand_img = random.choice(list(filepath.glob('**\\*.jpg')))\n",
    "    width, height = Image.open(str(rand_img)).size\n",
    "\n",
    "    return width, height\n",
    "\n",
    "def random_img(filepath):\n",
    "    return  random.choice(list(filepath.glob('**\\*.jpg')))\n",
    "\n",
    "img_width, img_height = describe_img(data_dir)\n",
    "\n",
    "# load image dataset\n",
    "train_ds = tf.keras.utils.image_dataset_from_directory(\n",
    "    data_dir,\n",
    "    validation_split = 0.2,\n",
    "    subset = \"training\",\n",
    "    seed = 123,\n",
    "    color_mode=\"grayscale\",\n",
    "    image_size = (img_height , img_width),\n",
    "    batch_size = batch_size\n",
    ")\n",
    "\n",
    "test_ds = tf.keras.utils.image_dataset_from_directory(\n",
    "    data_dir,\n",
    "    validation_split = 0.2,\n",
    "    subset = \"validation\",\n",
    "    seed = 123,\n",
    "    color_mode=\"grayscale\",\n",
    "    image_size = (img_height , img_width),\n",
    "    batch_size = batch_size\n",
    ")\n",
    "\n"
   ]
  },
  {
   "cell_type": "code",
   "execution_count": 4,
   "metadata": {},
   "outputs": [
    {
     "name": "stdout",
     "output_type": "stream",
     "text": [
      "(478, 62500)\n",
      "(478,)\n"
     ]
    }
   ],
   "source": [
    "def dataset_to_2D(dataset):\n",
    "    x = []\n",
    "    y = []\n",
    "    for img_batch, label_batch in dataset:\n",
    "        # flatten images since model fit() needs 2D input\n",
    "        for img in img_batch:\n",
    "            x.append(img.flatten())\n",
    "        for label in label_batch:\n",
    "            y.append(label)\n",
    "    return x, y\n",
    "        \n",
    "x_train, y_train = dataset_to_2D(train_ds.as_numpy_iterator())\n",
    "x_test, y_test = dataset_to_2D(test_ds.as_numpy_iterator())\n",
    "\n",
    "print(np.shape(x_train))\n",
    "print(np.shape(y_train))\n",
    "\n",
    "    \n"
   ]
  },
  {
   "cell_type": "code",
   "execution_count": 42,
   "metadata": {},
   "outputs": [],
   "source": [
    "model = GridSearchCV(\n",
    "    Lasso(),\n",
    "    param_grid={\n",
    "        \"alpha\" : [0.1 , 1 , 10 , 100 , 1000 , 10000],\n",
    "        \"fit_intercept\" : [True , False],\n",
    "        \"normalize\" : [True , False]\n",
    "    },\n",
    "    scoring='neg_mean_squared_error'\n",
    ")"
   ]
  },
  {
   "cell_type": "code",
   "execution_count": 43,
   "metadata": {},
   "outputs": [
    {
     "name": "stderr",
     "output_type": "stream",
     "text": [
      "c:\\Users\\tickn\\anaconda3\\lib\\site-packages\\sklearn\\linear_model\\_coordinate_descent.py:530: ConvergenceWarning: Objective did not converge. You might want to increase the number of iterations. Duality gap: 6.662522974031934, tolerance: 0.040745811518324605\n",
      "  model = cd_fast.enet_coordinate_descent(\n",
      "c:\\Users\\tickn\\anaconda3\\lib\\site-packages\\sklearn\\linear_model\\_coordinate_descent.py:530: ConvergenceWarning: Objective did not converge. You might want to increase the number of iterations. Duality gap: 4.465265373300789, tolerance: 0.03927434554973825\n",
      "  model = cd_fast.enet_coordinate_descent(\n",
      "c:\\Users\\tickn\\anaconda3\\lib\\site-packages\\sklearn\\linear_model\\_coordinate_descent.py:530: ConvergenceWarning: Objective did not converge. You might want to increase the number of iterations. Duality gap: 5.260446153892762, tolerance: 0.03974973821989529\n",
      "  model = cd_fast.enet_coordinate_descent(\n",
      "c:\\Users\\tickn\\anaconda3\\lib\\site-packages\\sklearn\\linear_model\\_coordinate_descent.py:530: ConvergenceWarning: Objective did not converge. You might want to increase the number of iterations. Duality gap: 5.750843645377561, tolerance: 0.0407462140992167\n",
      "  model = cd_fast.enet_coordinate_descent(\n",
      "c:\\Users\\tickn\\anaconda3\\lib\\site-packages\\sklearn\\linear_model\\_coordinate_descent.py:530: ConvergenceWarning: Objective did not converge. You might want to increase the number of iterations. Duality gap: 4.5496500048778845, tolerance: 0.04077441253263709\n",
      "  model = cd_fast.enet_coordinate_descent(\n",
      "c:\\Users\\tickn\\anaconda3\\lib\\site-packages\\sklearn\\linear_model\\_coordinate_descent.py:530: ConvergenceWarning: Objective did not converge. You might want to increase the number of iterations. Duality gap: 14.203462549378527, tolerance: 0.1279\n",
      "  model = cd_fast.enet_coordinate_descent(\n",
      "c:\\Users\\tickn\\anaconda3\\lib\\site-packages\\sklearn\\linear_model\\_coordinate_descent.py:530: ConvergenceWarning: Objective did not converge. You might want to increase the number of iterations. Duality gap: 13.832680628289978, tolerance: 0.1202\n",
      "  model = cd_fast.enet_coordinate_descent(\n",
      "c:\\Users\\tickn\\anaconda3\\lib\\site-packages\\sklearn\\linear_model\\_coordinate_descent.py:530: ConvergenceWarning: Objective did not converge. You might want to increase the number of iterations. Duality gap: 11.242450716919091, tolerance: 0.126\n",
      "  model = cd_fast.enet_coordinate_descent(\n",
      "c:\\Users\\tickn\\anaconda3\\lib\\site-packages\\sklearn\\linear_model\\_coordinate_descent.py:530: ConvergenceWarning: Objective did not converge. You might want to increase the number of iterations. Duality gap: 13.592334887893157, tolerance: 0.12380000000000001\n",
      "  model = cd_fast.enet_coordinate_descent(\n",
      "c:\\Users\\tickn\\anaconda3\\lib\\site-packages\\sklearn\\linear_model\\_coordinate_descent.py:530: ConvergenceWarning: Objective did not converge. You might want to increase the number of iterations. Duality gap: 12.461539839278114, tolerance: 0.1265\n",
      "  model = cd_fast.enet_coordinate_descent(\n",
      "c:\\Users\\tickn\\anaconda3\\lib\\site-packages\\sklearn\\linear_model\\_coordinate_descent.py:530: ConvergenceWarning: Objective did not converge. You might want to increase the number of iterations. Duality gap: 14.203462549378527, tolerance: 0.1279\n",
      "  model = cd_fast.enet_coordinate_descent(\n",
      "c:\\Users\\tickn\\anaconda3\\lib\\site-packages\\sklearn\\linear_model\\_coordinate_descent.py:530: ConvergenceWarning: Objective did not converge. You might want to increase the number of iterations. Duality gap: 13.832680628289978, tolerance: 0.1202\n",
      "  model = cd_fast.enet_coordinate_descent(\n",
      "c:\\Users\\tickn\\anaconda3\\lib\\site-packages\\sklearn\\linear_model\\_coordinate_descent.py:530: ConvergenceWarning: Objective did not converge. You might want to increase the number of iterations. Duality gap: 11.242450716919091, tolerance: 0.126\n",
      "  model = cd_fast.enet_coordinate_descent(\n",
      "c:\\Users\\tickn\\anaconda3\\lib\\site-packages\\sklearn\\linear_model\\_coordinate_descent.py:530: ConvergenceWarning: Objective did not converge. You might want to increase the number of iterations. Duality gap: 13.592334887893157, tolerance: 0.12380000000000001\n",
      "  model = cd_fast.enet_coordinate_descent(\n",
      "c:\\Users\\tickn\\anaconda3\\lib\\site-packages\\sklearn\\linear_model\\_coordinate_descent.py:530: ConvergenceWarning: Objective did not converge. You might want to increase the number of iterations. Duality gap: 12.461539839278114, tolerance: 0.1265\n",
      "  model = cd_fast.enet_coordinate_descent(\n",
      "c:\\Users\\tickn\\anaconda3\\lib\\site-packages\\sklearn\\linear_model\\_coordinate_descent.py:530: ConvergenceWarning: Objective did not converge. You might want to increase the number of iterations. Duality gap: 0.052538503687060256, tolerance: 0.040745811518324605\n",
      "  model = cd_fast.enet_coordinate_descent(\n",
      "c:\\Users\\tickn\\anaconda3\\lib\\site-packages\\sklearn\\linear_model\\_coordinate_descent.py:530: ConvergenceWarning: Objective did not converge. You might want to increase the number of iterations. Duality gap: 0.05512939909766601, tolerance: 0.03927434554973825\n",
      "  model = cd_fast.enet_coordinate_descent(\n",
      "c:\\Users\\tickn\\anaconda3\\lib\\site-packages\\sklearn\\linear_model\\_coordinate_descent.py:530: ConvergenceWarning: Objective did not converge. You might want to increase the number of iterations. Duality gap: 0.051724273122673026, tolerance: 0.0407462140992167\n",
      "  model = cd_fast.enet_coordinate_descent(\n",
      "c:\\Users\\tickn\\anaconda3\\lib\\site-packages\\sklearn\\linear_model\\_coordinate_descent.py:530: ConvergenceWarning: Objective did not converge. You might want to increase the number of iterations. Duality gap: 0.07451219187768743, tolerance: 0.04077441253263709\n",
      "  model = cd_fast.enet_coordinate_descent(\n",
      "c:\\Users\\tickn\\anaconda3\\lib\\site-packages\\sklearn\\linear_model\\_coordinate_descent.py:530: ConvergenceWarning: Objective did not converge. You might want to increase the number of iterations. Duality gap: 6.093098875870552, tolerance: 0.1279\n",
      "  model = cd_fast.enet_coordinate_descent(\n",
      "c:\\Users\\tickn\\anaconda3\\lib\\site-packages\\sklearn\\linear_model\\_coordinate_descent.py:530: ConvergenceWarning: Objective did not converge. You might want to increase the number of iterations. Duality gap: 7.550356835882255, tolerance: 0.1202\n",
      "  model = cd_fast.enet_coordinate_descent(\n",
      "c:\\Users\\tickn\\anaconda3\\lib\\site-packages\\sklearn\\linear_model\\_coordinate_descent.py:530: ConvergenceWarning: Objective did not converge. You might want to increase the number of iterations. Duality gap: 7.713710518866051, tolerance: 0.126\n",
      "  model = cd_fast.enet_coordinate_descent(\n",
      "c:\\Users\\tickn\\anaconda3\\lib\\site-packages\\sklearn\\linear_model\\_coordinate_descent.py:530: ConvergenceWarning: Objective did not converge. You might want to increase the number of iterations. Duality gap: 8.442321941316436, tolerance: 0.12380000000000001\n",
      "  model = cd_fast.enet_coordinate_descent(\n",
      "c:\\Users\\tickn\\anaconda3\\lib\\site-packages\\sklearn\\linear_model\\_coordinate_descent.py:530: ConvergenceWarning: Objective did not converge. You might want to increase the number of iterations. Duality gap: 7.005082924435584, tolerance: 0.1265\n",
      "  model = cd_fast.enet_coordinate_descent(\n",
      "c:\\Users\\tickn\\anaconda3\\lib\\site-packages\\sklearn\\linear_model\\_coordinate_descent.py:530: ConvergenceWarning: Objective did not converge. You might want to increase the number of iterations. Duality gap: 6.093098875870552, tolerance: 0.1279\n",
      "  model = cd_fast.enet_coordinate_descent(\n",
      "c:\\Users\\tickn\\anaconda3\\lib\\site-packages\\sklearn\\linear_model\\_coordinate_descent.py:530: ConvergenceWarning: Objective did not converge. You might want to increase the number of iterations. Duality gap: 7.550356835882255, tolerance: 0.1202\n",
      "  model = cd_fast.enet_coordinate_descent(\n",
      "c:\\Users\\tickn\\anaconda3\\lib\\site-packages\\sklearn\\linear_model\\_coordinate_descent.py:530: ConvergenceWarning: Objective did not converge. You might want to increase the number of iterations. Duality gap: 7.713710518866051, tolerance: 0.126\n",
      "  model = cd_fast.enet_coordinate_descent(\n",
      "c:\\Users\\tickn\\anaconda3\\lib\\site-packages\\sklearn\\linear_model\\_coordinate_descent.py:530: ConvergenceWarning: Objective did not converge. You might want to increase the number of iterations. Duality gap: 8.442321941316436, tolerance: 0.12380000000000001\n",
      "  model = cd_fast.enet_coordinate_descent(\n",
      "c:\\Users\\tickn\\anaconda3\\lib\\site-packages\\sklearn\\linear_model\\_coordinate_descent.py:530: ConvergenceWarning: Objective did not converge. You might want to increase the number of iterations. Duality gap: 7.005082924435584, tolerance: 0.1265\n",
      "  model = cd_fast.enet_coordinate_descent(\n"
     ]
    },
    {
     "name": "stdout",
     "output_type": "stream",
     "text": [
      "{'alpha': 10, 'fit_intercept': True, 'normalize': False}\n"
     ]
    }
   ],
   "source": [
    "model.fit(x_train, y_train)\n",
    "print(model.best_params_)"
   ]
  },
  {
   "cell_type": "code",
   "execution_count": 41,
   "metadata": {},
   "outputs": [
    {
     "name": "stdout",
     "output_type": "stream",
     "text": [
      "{'alpha': 1000, 'fit_intercept': True, 'normalize': True}\n"
     ]
    }
   ],
   "source": [
    "model2 = GridSearchCV(\n",
    "    Ridge(),\n",
    "    param_grid={\n",
    "        \"alpha\" : [1 , 10 , 100 , 1000 , 10000],\n",
    "        \"fit_intercept\" : [True , False],\n",
    "        \"normalize\" : [True , False]\n",
    "    },\n",
    "    scoring='neg_mean_squared_error'\n",
    ")\n",
    "\n",
    "model2.fit(x_train, y_train)\n",
    "print(model2.best_params_)"
   ]
  },
  {
   "cell_type": "code",
   "execution_count": 46,
   "metadata": {},
   "outputs": [
    {
     "name": "stdout",
     "output_type": "stream",
     "text": [
      "Ridge(alpha=1000, normalize=True)\n"
     ]
    }
   ],
   "source": [
    "print(model2.best_estimator_)"
   ]
  },
  {
   "cell_type": "code",
   "execution_count": 6,
   "metadata": {},
   "outputs": [],
   "source": [
    "l1_selector = SelectFromModel(estimator=model.best_estimator_).fit(x_train, y_train)\n",
    "# l1_selector = SelectFromModel(estimator=Lasso(max_iter=10000)).fit(x_train, y_train)\n",
    "l2_selector = SelectFromModel(estimator=model2.best_estimator_).fit(x_train, y_train)\n",
    "\n",
    "l1_train = l1_selector.transform(x_train)\n",
    "l1_test = l1_selector.transform(x_test)\n",
    "\n",
    "l2_train = l2_selector.transform(x_train)\n",
    "l2_test = l2_selector.transform(x_test)"
   ]
  },
  {
   "cell_type": "code",
   "execution_count": null,
   "metadata": {},
   "outputs": [
    {
     "name": "stdout",
     "output_type": "stream",
     "text": [
      "(478, 62500)\n",
      "(478, 176)\n",
      "(119, 176)\n",
      "(478, 20573)\n",
      "(119, 20573)\n"
     ]
    }
   ],
   "source": [
    "print(np.shape(x_train))\n",
    "print(np.shape(l1_train))\n",
    "print(np.shape(l1_test))\n",
    "print(np.shape(l2_train))\n",
    "print(np.shape(l2_test))"
   ]
  },
  {
   "cell_type": "code",
   "execution_count": 87,
   "metadata": {},
   "outputs": [
    {
     "name": "stdout",
     "output_type": "stream",
     "text": [
      " Training error l1 reg: 0.951883 \n",
      " Test error l1 reg: 0.504202 \n",
      "\n",
      " Training error with l2 reg: 0.903766 \n",
      " Test error l2 reg: 0.470588 \n"
     ]
    }
   ],
   "source": [
    "clf1 =  SVC(C=10.0 , kernel='rbf')\n",
    "clf1.fit(l1_train,y_train)\n",
    "\n",
    "print(\" Training error l1 reg: %f \" %clf1.score(l1_train, y_train))\n",
    "print(\" Test error l1 reg: %f \" %clf1.score(l1_test, y_test))\n",
    "\n",
    "clf1.fit(l2_train,y_train)\n",
    "\n",
    "print()\n",
    "print(\" Training error with l2 reg: %f \" %clf1.score(l2_train, y_train))\n",
    "print(\" Test error l2 reg: %f \" %clf1.score(l2_test, y_test))\n"
   ]
  },
  {
   "cell_type": "code",
   "execution_count": 88,
   "metadata": {},
   "outputs": [
    {
     "name": "stdout",
     "output_type": "stream",
     "text": [
      " Training error l1 reg: 1.000000 \n",
      " Test error l1 reg: 0.394958 \n",
      "\n",
      " Training error with l2 reg: 1.000000 \n",
      " Test error l2 reg: 0.478992 \n"
     ]
    }
   ],
   "source": [
    "clf2 = DecisionTreeClassifier(criterion=\"entropy\")\n",
    "\n",
    "clf2.fit(l1_train,y_train)\n",
    "\n",
    "print(\" Training error l1 reg: %f \" %clf2.score(l1_train, y_train))\n",
    "print(\" Test error l1 reg: %f \" %clf2.score(l1_test, y_test))\n",
    "\n",
    "clf2.fit(l2_train,y_train)\n",
    "\n",
    "print()\n",
    "print(\" Training error with l2 reg: %f \" %clf2.score(l2_train, y_train))\n",
    "print(\" Test error l2 reg: %f \" %clf2.score(l2_test, y_test))\n"
   ]
  },
  {
   "cell_type": "code",
   "execution_count": 89,
   "metadata": {},
   "outputs": [
    {
     "name": "stdout",
     "output_type": "stream",
     "text": [
      " Training error l1 reg: 1.000000 \n",
      " Test error l1 reg: 0.529412 \n",
      "\n",
      " Training error with l2 reg: 1.000000 \n",
      " Test error l2 reg: 0.521008 \n"
     ]
    }
   ],
   "source": [
    "clf3 = RandomForestClassifier()\n",
    "\n",
    "clf3.fit(l1_train,y_train)\n",
    "\n",
    "print(\" Training error l1 reg: %f \" %clf3.score(l1_train, y_train))\n",
    "print(\" Test error l1 reg: %f \" %clf3.score(l1_test, y_test))\n",
    "\n",
    "clf3.fit(l2_train,y_train)\n",
    "\n",
    "print()\n",
    "print(\" Training error with l2 reg: %f \" %clf3.score(l2_train, y_train))\n",
    "print(\" Test error l2 reg: %f \" %clf3.score(l2_test, y_test))\n"
   ]
  },
  {
   "cell_type": "code",
   "execution_count": 90,
   "metadata": {},
   "outputs": [
    {
     "name": "stderr",
     "output_type": "stream",
     "text": [
      "c:\\Users\\tickn\\anaconda3\\lib\\site-packages\\scipy\\optimize\\linesearch.py:327: LineSearchWarning: The line search algorithm did not converge\n",
      "  warn('The line search algorithm did not converge', LineSearchWarning)\n",
      "c:\\Users\\tickn\\anaconda3\\lib\\site-packages\\sklearn\\utils\\optimize.py:195: UserWarning: Line Search failed\n",
      "  warnings.warn('Line Search failed')\n"
     ]
    },
    {
     "name": "stdout",
     "output_type": "stream",
     "text": [
      " Training error l1 reg: 1.000000 \n",
      " Test error l1 reg: 0.344538 \n",
      "\n",
      " Training error with l2 reg: 1.000000 \n",
      " Test error l2 reg: 0.394958 \n"
     ]
    },
    {
     "name": "stderr",
     "output_type": "stream",
     "text": [
      "c:\\Users\\tickn\\anaconda3\\lib\\site-packages\\scipy\\optimize\\linesearch.py:327: LineSearchWarning: The line search algorithm did not converge\n",
      "  warn('The line search algorithm did not converge', LineSearchWarning)\n",
      "c:\\Users\\tickn\\anaconda3\\lib\\site-packages\\sklearn\\utils\\optimize.py:195: UserWarning: Line Search failed\n",
      "  warnings.warn('Line Search failed')\n"
     ]
    },
    {
     "ename": "",
     "evalue": "",
     "output_type": "error",
     "traceback": [
      "\u001b[1;31mThe Kernel crashed while executing code in the the current cell or a previous cell. Please review the code in the cell(s) to identify a possible cause of the failure. Click <a href='https://aka.ms/vscodeJupyterKernelCrash'>here</a> for more info. View Jupyter <a href='command:jupyter.viewOutput'>log</a> for further details."
     ]
    }
   ],
   "source": [
    "clf4 = LogisticRegression(solver='newton-cg',max_iter=1000)\n",
    "\n",
    "clf4.fit(l1_train,y_train)\n",
    "\n",
    "print(\" Training error l1 reg: %f \" %clf4.score(l1_train, y_train))\n",
    "print(\" Test error l1 reg: %f \" %clf4.score(l1_test, y_test))\n",
    "\n",
    "clf4.fit(l2_train,y_train)\n",
    "\n",
    "print()\n",
    "print(\" Training error with l2 reg: %f \" %clf4.score(l2_train, y_train))\n",
    "print(\" Test error l2 reg: %f \" %clf4.score(l2_test, y_test))\n"
   ]
  },
  {
   "cell_type": "code",
   "execution_count": null,
   "metadata": {},
   "outputs": [],
   "source": []
  }
 ],
 "metadata": {
  "interpreter": {
   "hash": "e6945c16a0984d1ac9e5b0055ebd9257e73620e552f2c1a12e2e737359eca363"
  },
  "kernelspec": {
   "display_name": "Python 3.9.7 ('base')",
   "language": "python",
   "name": "python3"
  },
  "language_info": {
   "codemirror_mode": {
    "name": "ipython",
    "version": 3
   },
   "file_extension": ".py",
   "mimetype": "text/x-python",
   "name": "python",
   "nbconvert_exporter": "python",
   "pygments_lexer": "ipython3",
   "version": "3.9.7"
  },
  "orig_nbformat": 4
 },
 "nbformat": 4,
 "nbformat_minor": 2
}
